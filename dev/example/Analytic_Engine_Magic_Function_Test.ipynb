{
 "cells": [
  {
   "cell_type": "markdown",
   "metadata": {},
   "source": [
    "## Integration Test Starter"
   ]
  },
  {
   "cell_type": "markdown",
   "metadata": {},
   "source": [
    "#### Magic Command Available\n",
    "- **analytic_engine**: connect to IBM analytic engine, list all instances after connect successfully.\n",
    "  - syntax: **%analytic_engine** --uid `$uid` --password `$pwd` --host `$host`\n",
    "- **new_session**: load json configuration from the cell and create a new session for job submission\n",
    "  - syntax: **%%new_session** \n",
    "- **submit_job**: submit code in current cell as spark job to the Analytic Engine\n",
    "  - syntax: **%%submit_job** [`--sync`|`--async`]"
   ]
  },
  {
   "cell_type": "code",
   "execution_count": 7,
   "metadata": {},
   "outputs": [],
   "source": [
    "import genius4.magic.functions"
   ]
  },
  {
   "cell_type": "markdown",
   "metadata": {},
   "source": [
    "#### 1. Connect to Analytic Engine"
   ]
  },
  {
   "cell_type": "code",
   "execution_count": 2,
   "metadata": {},
   "outputs": [],
   "source": [
    "host = 'cp4d-cpd-cp4d.pathfinder-royalbankofc-73aebe06726e634c608c4167edcc2aeb-0000.tor01.containers.appdomain.cloud'\n",
    "uid = 'admin'\n",
    "pwd = 'rbccp4d-rbccp4d'"
   ]
  },
  {
   "cell_type": "code",
   "execution_count": 3,
   "metadata": {},
   "outputs": [
    {
     "data": {
      "text/html": [
       "<table><tr><th>Instance ID</th><th>Instance Name</th><th>Created Date</th></tr><tr><td>1599849172104</td><td>rbc</td><td>2020-09-11</td></tr><tr><td>1600973488806</td><td>dheeraj_spark_new_ae1</td><td>2020-09-24</td></tr></table>"
      ],
      "text/plain": [
       "<IPython.core.display.HTML object>"
      ]
     },
     "metadata": {},
     "output_type": "display_data"
    }
   ],
   "source": [
    "%analytic_engine --uid $uid --password $pwd --host $host"
   ]
  },
  {
   "cell_type": "markdown",
   "metadata": {},
   "source": [
    "#### 2. Create New Session"
   ]
  },
  {
   "cell_type": "code",
   "execution_count": 4,
   "metadata": {},
   "outputs": [
    {
     "name": "stdout",
     "output_type": "stream",
     "text": [
      "> new session is created and attached to AE instance: rbc\n"
     ]
    }
   ],
   "source": [
    "%%new_session\n",
    "\n",
    "{\n",
    "    \"instance_id\":\"1599849172104\",\n",
    "    \"cos\":{\n",
    "        \"ibm_auth_endpoint\":\"iam.bluemix.net/oidc/token\",\n",
    "        \"endpoint\":\"s3.us-east.cloud-object-storage.appdomain.cloud\",\n",
    "        \"api_key\":\"JtJ24oMbatJ7GtxNxBkzk9ucKqP07ChQ_-CjQlG4vuhx\",\n",
    "        \"access_key\":\"5c5689e7f8c64b7bacdd1c2a39e63672\",\n",
    "        \"secret_key\":\"32169ea3fe74231f4b9ad1250ca941b354970ba7b4da21e7\",\n",
    "        \"bucket\":\"analytic-engine-test\"\n",
    "    },\n",
    "    \"cluster_size\": { \n",
    "          \"num_workers\": 1, \n",
    "          \"worker_size\": { \n",
    "              \"cpu\": 1, \n",
    "              \"memory\": \"2g\"\n",
    "          }, \n",
    "          \"driver_size\": { \n",
    "              \"cpu\": 1, \n",
    "              \"memory\": \"2g\" \n",
    "          } \n",
    "    }\n",
    "}"
   ]
  },
  {
   "cell_type": "markdown",
   "metadata": {},
   "source": [
    "#### 3. Submit Spark Job"
   ]
  },
  {
   "cell_type": "code",
   "execution_count": 5,
   "metadata": {},
   "outputs": [
    {
     "name": "stdout",
     "output_type": "stream",
     "text": [
      "submit job summary:\n",
      "-------------------\n",
      "> parameters:\n",
      "  - synchronization: False\n",
      "  - report progress every 1 seconds:\n",
      "> submitting job ...\n",
      "> job submitted:\n",
      "  - job id: aefc1cec-7514-4fe8-86a6-67eeae771f7f\n",
      "  - job state: WAITING\n",
      "\n"
     ]
    },
    {
     "data": {
      "application/vnd.jupyter.widget-view+json": {
       "model_id": "1d280959747640a3a700994197a380f1",
       "version_major": 2,
       "version_minor": 0
      },
      "text/plain": [
       "HBox(children=(FloatProgress(value=0.0, max=10.0), HTML(value='')))"
      ]
     },
     "metadata": {},
     "output_type": "display_data"
    }
   ],
   "source": [
    "%%submit_job --async\n",
    "\n",
    "# AE \n",
    "\n",
    "import sys\n",
    "from operator import add\n",
    "from pyspark.sql import SparkSession\n",
    "\n",
    "\n",
    "if __name__ == \"__main__\":\n",
    "\n",
    "    spark = SparkSession\\\n",
    "        .builder\\\n",
    "        .appName(\"FistSparkSessToConnecctCOS\")\\\n",
    "        .getOrCreate()\n",
    "    sc = spark.sparkContext\n",
    "    \n",
    "    hconf = sc._jsc.hadoopConfiguration()\n",
    "    hconf.set(\"fs.cos.servicename.endpoint\", \"s3.us-east.cloud-object-storage.appdomain.cloud\")\n",
    "    hconf.set(\"fs.cos.servicename.access.key\",\"5c5689e7f8c64b7bacdd1c2a39e63672\")\n",
    "    hconf.set(\"fs.cos.servicename.secret.key\",\"32169ea3fe74231f4b9ad1250ca941b354970ba7b4da21e7\")\n",
    "\n",
    "    df = spark.read.csv(\"cos://analytic-engine-test.servicename/HousingData.csv\")\n",
    "\n",
    "    print(df.show(10))\n",
    "    print(\"total number of rows: \", df.count())\n",
    "    spark.stop()"
   ]
  },
  {
   "cell_type": "markdown",
   "metadata": {},
   "source": [
    "#### 4. List Job"
   ]
  },
  {
   "cell_type": "code",
   "execution_count": 8,
   "metadata": {},
   "outputs": [
    {
     "name": "stdout",
     "output_type": "stream",
     "text": [
      "> List of jobs: \n",
      "job id: aefc1cec-7514-4fe8-86a6-67eeae771f7f \t job state: FINISHED\n"
     ]
    }
   ],
   "source": [
    "%list_job"
   ]
  },
  {
   "cell_type": "code",
   "execution_count": null,
   "metadata": {},
   "outputs": [],
   "source": []
  }
 ],
 "metadata": {
  "kernelspec": {
   "display_name": "Python 3",
   "language": "python",
   "name": "python3"
  },
  "language_info": {
   "codemirror_mode": {
    "name": "ipython",
    "version": 3
   },
   "file_extension": ".py",
   "mimetype": "text/x-python",
   "name": "python",
   "nbconvert_exporter": "python",
   "pygments_lexer": "ipython3",
   "version": "3.7.2"
  }
 },
 "nbformat": 4,
 "nbformat_minor": 2
}
